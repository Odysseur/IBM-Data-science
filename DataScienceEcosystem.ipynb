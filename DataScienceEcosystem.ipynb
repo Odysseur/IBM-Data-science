{
 "cells": [
  {
   "cell_type": "markdown",
   "id": "f5af26a2-da54-4a7b-9c1e-f513832dbab0",
   "metadata": {
    "tags": []
   },
   "source": [
    "# Data Science Tools and Ecosystem"
   ]
  },
  {
   "cell_type": "markdown",
   "id": "3f7c9314-0a48-45a8-8aa2-c38df775cc9a",
   "metadata": {},
   "source": [
    "In this notebook, Data Science Tools and Ecosystem are summarized."
   ]
  },
  {
   "cell_type": "markdown",
   "id": "a0bd838f-f584-43f8-9395-4baec94feca5",
   "metadata": {
    "tags": []
   },
   "source": [
    "**Objectives:**\n",
    "- Languages\n",
    "- Libraries\n",
    "- IDEs\n",
    "- Jupiyter Notebooks\n",
    "- Markdowns"
   ]
  },
  {
   "cell_type": "markdown",
   "id": "9abe4e0d-e702-4866-9c3e-400be3aacaac",
   "metadata": {},
   "source": [
    "Some of the popular languages that Data Scientists use are:"
   ]
  },
  {
   "cell_type": "markdown",
   "id": "e59fd309-1172-4ab8-891b-432401e2362d",
   "metadata": {
    "tags": []
   },
   "source": [
    "<ol>\n",
    "<li>Python</li>\n",
    "<li>R language</li>\n",
    "<li>Julia</li>\n",
    "</ol>"
   ]
  },
  {
   "cell_type": "markdown",
   "id": "724912b3-771c-4e0b-a99c-8b23f1ae01cb",
   "metadata": {},
   "source": [
    "Some of the commonly used libraries used by Data Scientists include:"
   ]
  },
  {
   "cell_type": "markdown",
   "id": "4845a598-11a1-41f3-8853-4b5ffae9d43a",
   "metadata": {},
   "source": [
    "1. Pandas\n",
    "2. GGplot\n",
    "3. Numpy"
   ]
  },
  {
   "cell_type": "markdown",
   "id": "6ed09125-de8b-456b-b98f-97c5b8dd7e6f",
   "metadata": {
    "tags": []
   },
   "source": [
    "\n",
    "| Data Science Tools|\n",
    "| -------------| \n",
    "| Pycharm Comunity edition |\n",
    "| VS Studio Code | \n",
    "| R Studio | "
   ]
  },
  {
   "cell_type": "markdown",
   "id": "d889c40a-a9a4-48d2-9f4d-37bf3fb88c7a",
   "metadata": {
    "tags": []
   },
   "source": [
    "### Below are a few examples of evaluating arithmetic expressions in Python"
   ]
  },
  {
   "cell_type": "code",
   "execution_count": 4,
   "id": "78aa66a4-44f1-418f-a9f1-ee53cc9103a4",
   "metadata": {
    "tags": []
   },
   "outputs": [
    {
     "data": {
      "text/plain": [
       "17"
      ]
     },
     "execution_count": 4,
     "metadata": {},
     "output_type": "execute_result"
    }
   ],
   "source": [
    "# this a simple arithmetic expression to mutiply then add integers\n",
    "(3*4)+5"
   ]
  },
  {
   "cell_type": "code",
   "execution_count": 10,
   "id": "0c6802fd-60ea-4080-90c1-e3910d528a9d",
   "metadata": {
    "tags": []
   },
   "outputs": [
    {
     "data": {
      "text/plain": [
       "3.3333333333333335"
      ]
     },
     "execution_count": 10,
     "metadata": {},
     "output_type": "execute_result"
    }
   ],
   "source": [
    "# This will convert 200 minutes to hours by diving by 60\n",
    "def converter(mins):\n",
    "    return mins/60\n",
    "converter(200)"
   ]
  },
  {
   "cell_type": "markdown",
   "id": "38309752-b55d-44fa-9f8a-0533ec800960",
   "metadata": {},
   "source": [
    "## Author \n",
    "\n",
    "Tobias Schulte"
   ]
  },
  {
   "cell_type": "markdown",
   "id": "75bc00cf-eb82-475c-b865-877c28052d86",
   "metadata": {},
   "source": [
    "## Author \n",
    "\n",
    "Tobias Schulte"
   ]
  }
 ],
 "metadata": {
  "kernelspec": {
   "display_name": "Python",
   "language": "python",
   "name": "conda-env-python-py"
  },
  "language_info": {
   "codemirror_mode": {
    "name": "ipython",
    "version": 3
   },
   "file_extension": ".py",
   "mimetype": "text/x-python",
   "name": "python",
   "nbconvert_exporter": "python",
   "pygments_lexer": "ipython3",
   "version": "3.7.12"
  }
 },
 "nbformat": 4,
 "nbformat_minor": 5
}
